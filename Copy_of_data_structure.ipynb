{
  "nbformat": 4,
  "nbformat_minor": 0,
  "metadata": {
    "colab": {
      "provenance": [],
      "include_colab_link": true
    },
    "kernelspec": {
      "name": "python3",
      "display_name": "Python 3"
    },
    "language_info": {
      "name": "python"
    }
  },
  "cells": [
    {
      "cell_type": "markdown",
      "metadata": {
        "id": "view-in-github",
        "colab_type": "text"
      },
      "source": [
        "<a href=\"https://colab.research.google.com/github/narendra17-abd/Python-Basics/blob/main/Copy_of_data_structure.ipynb\" target=\"_parent\"><img src=\"https://colab.research.google.com/assets/colab-badge.svg\" alt=\"Open In Colab\"/></a>"
      ]
    },
    {
      "cell_type": "markdown",
      "source": [
        "## 1.Difference between the list and tuple?"
      ],
      "metadata": {
        "id": "HN6tCq60j2mQ"
      }
    },
    {
      "cell_type": "code",
      "source": [
        "a=(1,2)\n",
        "b=[1,2]\n",
        "b.append(3)\n",
        "print(b)\n",
        "#lists are mutable but tuples are immutable new data cannot be added"
      ],
      "metadata": {
        "id": "Cw8ffkhMk6RQ",
        "colab": {
          "base_uri": "https://localhost:8080/"
        },
        "outputId": "e7cf5ed5-9cda-4206-eb04-c5a0af1e4f0e"
      },
      "execution_count": null,
      "outputs": [
        {
          "output_type": "stream",
          "name": "stdout",
          "text": [
            "[1, 2, 3]\n"
          ]
        }
      ]
    },
    {
      "cell_type": "markdown",
      "source": [
        "## 2.How list is different from an array"
      ],
      "metadata": {
        "id": "uWhJG7hzk6Ov"
      }
    },
    {
      "cell_type": "code",
      "source": [
        "a=[1,2,3,4]\n",
        "print(a)\n",
        "import numpy as np\n",
        "arr=np.array([1,2,4,5])\n",
        "print(arr)"
      ],
      "metadata": {
        "id": "MowyCcINo4Mn",
        "colab": {
          "base_uri": "https://localhost:8080/"
        },
        "outputId": "eb08b1e8-f67a-4203-a62b-d51452713246"
      },
      "execution_count": null,
      "outputs": [
        {
          "output_type": "stream",
          "name": "stdout",
          "text": [
            "[1, 2, 3, 4]\n",
            "[1 2 4 5]\n"
          ]
        }
      ]
    },
    {
      "cell_type": "markdown",
      "source": [],
      "metadata": {
        "id": "1uPEIFbxmQwt"
      }
    },
    {
      "cell_type": "markdown",
      "source": [
        "## 3. Use the python list append(),copy(), clear, count, extends(), index(), insert(), pop(), reverse(), sort(), min(), max(),and sum()"
      ],
      "metadata": {
        "id": "_0Rn7JQSk6M1"
      }
    },
    {
      "cell_type": "code",
      "source": [
        "a = [3, 1, 4, 1, 5, 9, 2, 6, 5, 3, 5]\n",
        "a.append(7)\n",
        "copied_list = a.copy()\n",
        "a.clear()\n",
        "count_of_5 = copied_list.count(5)\n",
        "copied_list.extend([8, 9, 10])\n",
        "index_of_2 = copied_list.index(2)\n",
        "copied_list.insert(3, 99)\n",
        "popped_value = copied_list.pop(5)\n",
        "copied_list.reverse()\n",
        "copied_list.sort()\n",
        "min_value = min(copied_list)\n",
        "max_value = max(copied_list)\n",
        "total_sum = sum(copied_list)\n",
        "print(\"Original List:\", a)\n",
        "print(\"Copied List:\", copied_list)\n",
        "print(\"Count of 5:\", count_of_5)\n",
        "print(\"Index of 2:\", index_of_2)\n",
        "print(\"Popped Value:\", popped_value)\n",
        "print(\"Min Value:\", min_value)\n",
        "print(\"Max Value:\", max_value)\n",
        "print(\"Sum of all elements:\", total_sum)"
      ],
      "metadata": {
        "colab": {
          "base_uri": "https://localhost:8080/"
        },
        "id": "YIWMidRLhXbD",
        "outputId": "e234a7a6-cdf2-40e1-f0fb-bd2169f5ed4e"
      },
      "execution_count": null,
      "outputs": [
        {
          "output_type": "stream",
          "name": "stdout",
          "text": [
            "Original List: []\n",
            "Copied List: [1, 1, 2, 3, 3, 4, 5, 5, 6, 7, 8, 9, 9, 10, 99]\n",
            "Count of 5: 3\n",
            "Index of 2: 6\n",
            "Popped Value: 5\n",
            "Min Value: 1\n",
            "Max Value: 99\n",
            "Sum of all elements: 172\n"
          ]
        }
      ]
    },
    {
      "cell_type": "markdown",
      "source": [
        "## 4, How would you divide the list into two parts?"
      ],
      "metadata": {
        "id": "W9xfjUWak6J_"
      }
    },
    {
      "cell_type": "code",
      "source": [
        "a = [1, 2, 3, 4, 5, 6, 7, 8, 9, 10]\n",
        "\n",
        "b= a[:len(a)//2]\n",
        "c= a[len(a)//2:]\n",
        "\n",
        "print(\"First Part:\", b)\n",
        "print(\"Second Part:\", c)\n"
      ],
      "metadata": {
        "colab": {
          "base_uri": "https://localhost:8080/"
        },
        "id": "LGVyroEZn9Th",
        "outputId": "e06b0981-635c-438b-d2ee-474d602a4f75"
      },
      "execution_count": null,
      "outputs": [
        {
          "output_type": "stream",
          "name": "stdout",
          "text": [
            "First Part: [1, 2, 3, 4, 5]\n",
            "Second Part: [6, 7, 8, 9, 10]\n"
          ]
        }
      ]
    },
    {
      "cell_type": "markdown",
      "source": [
        "## 5. how to filter the multiple of 3 from a given list and them remove the odd number from the new filtered list.\n",
        "Eg A = [1,2,3,4,5,6,7,8,9,21,23,24]\n",
        "Filter_lsit = [3,6,9,21,24]\n",
        "output_list = [6,24]"
      ],
      "metadata": {
        "id": "Qb1mVGfnk6G5"
      }
    },
    {
      "cell_type": "code",
      "source": [
        "A = [1, 2, 3, 4, 5, 6, 7, 8, 9, 21, 23, 24]\n",
        "\n",
        "b = list(filter(lambda x: x % 3 == 0, A))\n",
        "c = list(filter(lambda x: x % 2 == 0, b))\n",
        "\n",
        "print(b)\n",
        "print(c)"
      ],
      "metadata": {
        "colab": {
          "base_uri": "https://localhost:8080/"
        },
        "id": "26jM6BNztpw_",
        "outputId": "595f2f88-935f-464d-f888-cfe3165a8122"
      },
      "execution_count": null,
      "outputs": [
        {
          "output_type": "stream",
          "name": "stdout",
          "text": [
            "[3, 6, 9, 21, 24]\n",
            "[6, 24]\n"
          ]
        }
      ]
    },
    {
      "cell_type": "markdown",
      "source": [
        "## 6. How you can access keys and values simultaneously and update its value"
      ],
      "metadata": {
        "id": "auhYyjixk6FD"
      }
    },
    {
      "cell_type": "code",
      "source": [
        "a = {'a': 1, 'b': 2, 'c': 3, 'd': 4}\n",
        "\n",
        "for key, value in a.items():\n",
        "    print(f\"Key: {key}, Value: {value}\")\n",
        "for key, value in a.items():\n",
        "    if value % 2 == 0:\n",
        "        a[key] = value * 2\n",
        "    else:\n",
        "      a[key]=value * 3\n",
        "print(\"Updated Dictionary:\", a)"
      ],
      "metadata": {
        "colab": {
          "base_uri": "https://localhost:8080/"
        },
        "id": "TNdkV2yCmSWN",
        "outputId": "e8e39ad9-d777-46e8-9cde-fa3ddbe18a4b"
      },
      "execution_count": null,
      "outputs": [
        {
          "output_type": "stream",
          "name": "stdout",
          "text": [
            "Key: a, Value: 1\n",
            "Key: b, Value: 2\n",
            "Key: c, Value: 3\n",
            "Key: d, Value: 4\n",
            "Updated Dictionary: {'a': 3, 'b': 4, 'c': 9, 'd': 8}\n"
          ]
        }
      ]
    },
    {
      "cell_type": "markdown",
      "source": [
        "## 7. Write python program to join, merge, concatente the two dictionaries..\n"
      ],
      "metadata": {
        "id": "vV00n0awk5_G"
      }
    },
    {
      "cell_type": "code",
      "source": [
        "a={'a': 1, 'b': 2}\n",
        "b={'c': 3, 'd': 4}\n",
        "c = dict(list(a.items()) + list(b.items()))\n",
        "print(c)"
      ],
      "metadata": {
        "colab": {
          "base_uri": "https://localhost:8080/"
        },
        "id": "7o6zh4-JufOG",
        "outputId": "34cbeefa-165d-4443-a233-0cd10aa7a9a3"
      },
      "execution_count": null,
      "outputs": [
        {
          "output_type": "stream",
          "name": "stdout",
          "text": [
            "{'a': 1, 'b': 2, 'c': 3, 'd': 4}\n"
          ]
        }
      ]
    },
    {
      "cell_type": "markdown",
      "source": [
        "## 8. How would you check a specific keys from the dictionary??\n"
      ],
      "metadata": {
        "id": "Z_7dpypWnQ-z"
      }
    },
    {
      "cell_type": "code",
      "source": [
        "a = {'a': 1, 'b': 2, 'c': 3}\n",
        "b = ['a', 'b', 'c','d']\n",
        "\n",
        "for key in b:\n",
        "    if key in a:\n",
        "        print(f\"Key '{key}' is in the dictionary \")\n",
        "    else:\n",
        "        print(f\"Key '{key}' is not in the dictionary\")"
      ],
      "metadata": {
        "id": "bxrjaxlmu86Q",
        "colab": {
          "base_uri": "https://localhost:8080/"
        },
        "outputId": "27c98f3b-10fe-4e30-a8a8-b259a1b758eb"
      },
      "execution_count": 2,
      "outputs": [
        {
          "output_type": "stream",
          "name": "stdout",
          "text": [
            "Key 'a' is in the dictionary \n",
            "Key 'b' is in the dictionary \n",
            "Key 'c' is in the dictionary \n",
            "Key 'd' is not in the dictionary\n"
          ]
        }
      ]
    },
    {
      "cell_type": "markdown",
      "source": [
        "## 9. write a python program to find the unique vowel present in the sentence"
      ],
      "metadata": {
        "id": "EjxeB4ntnirH"
      }
    },
    {
      "cell_type": "code",
      "source": [
        "def unique_vowels(x):\n",
        "    vowels = \"aeiou\"\n",
        "    b = set()\n",
        "    for char in x.lower():\n",
        "        if char in vowels:\n",
        "            b.add(char)\n",
        "\n",
        "    b = list(b)\n",
        "    return b\n",
        "\n",
        "a = \"Hello, how are you today?\"\n",
        "r = unique_vowels(a)\n",
        "\n",
        "print(r)"
      ],
      "metadata": {
        "colab": {
          "base_uri": "https://localhost:8080/"
        },
        "id": "kf-Xo5iqqc78",
        "outputId": "24fd76fa-6733-4b2d-d15a-3d80c3a5c28d"
      },
      "execution_count": null,
      "outputs": [
        {
          "output_type": "stream",
          "name": "stdout",
          "text": [
            "['u', 'a', 'o', 'e']\n"
          ]
        }
      ]
    },
    {
      "cell_type": "markdown",
      "source": [
        "## 10. We know that tuple is immutable, do any thing and add element to the tuples."
      ],
      "metadata": {
        "id": "B1VBImcfns6V"
      }
    },
    {
      "cell_type": "code",
      "source": [
        "a = (1, 2, 3)\n",
        "b = (4, 5, 6)\n",
        "c = a + b\n",
        "print(c)\n"
      ],
      "metadata": {
        "colab": {
          "base_uri": "https://localhost:8080/"
        },
        "id": "msJ0oiZbpm0E",
        "outputId": "5b15a531-fd1a-4cae-b462-243cefb32fb3"
      },
      "execution_count": null,
      "outputs": [
        {
          "output_type": "stream",
          "name": "stdout",
          "text": [
            "(1, 2, 3, 4, 5, 6)\n"
          ]
        }
      ]
    },
    {
      "cell_type": "code",
      "source": [
        "a = (1, 2, 3)\n",
        "b = a * 2\n",
        "print(b)\n"
      ],
      "metadata": {
        "colab": {
          "base_uri": "https://localhost:8080/"
        },
        "id": "VQCnSwTDp2a2",
        "outputId": "6d4d5afa-2c90-47f9-ff24-817a5c25e77b"
      },
      "execution_count": null,
      "outputs": [
        {
          "output_type": "stream",
          "name": "stdout",
          "text": [
            "(1, 2, 3, 1, 2, 3)\n"
          ]
        }
      ]
    },
    {
      "cell_type": "markdown",
      "source": [
        "## 11. How would you sum the list of tuple and sum of tuple of list\n",
        "list  = [(2,3),(4,5),(6,4)]\n",
        "output= [5,9,10]\n",
        "\n",
        "tuple  =([2,3],[4,5],[6,4])\n",
        "output  =  (5,9,10)"
      ],
      "metadata": {
        "id": "Yd7tDQHuoGFm"
      }
    },
    {
      "cell_type": "code",
      "source": [
        "list_of_tuples = [(2, 3), (4, 5), (6, 4)]\n",
        "result_list = [sum(t) for t in list_of_tuples]\n",
        "\n",
        "print(result_list)\n"
      ],
      "metadata": {
        "id": "02uOJdSz5pYr",
        "colab": {
          "base_uri": "https://localhost:8080/"
        },
        "outputId": "1f31164f-4f45-480e-a01a-20d7613ace8b"
      },
      "execution_count": 14,
      "outputs": [
        {
          "output_type": "stream",
          "name": "stdout",
          "text": [
            "[5, 9, 10]\n"
          ]
        }
      ]
    },
    {
      "cell_type": "code",
      "source": [
        "tuple_of_lists = ([2, 3], [4, 5], [6, 4])\n",
        "result_tuple = tuple(sum(sublist) for sublist in tuple_of_lists)\n",
        "\n",
        "print(result_tuple)\n"
      ],
      "metadata": {
        "id": "ZCt98p4P5qVR",
        "colab": {
          "base_uri": "https://localhost:8080/"
        },
        "outputId": "23264db1-33ae-4b53-d151-8d5cfcc49332"
      },
      "execution_count": 13,
      "outputs": [
        {
          "output_type": "stream",
          "name": "stdout",
          "text": [
            "(5, 9, 10)\n"
          ]
        }
      ]
    },
    {
      "cell_type": "markdown",
      "source": [
        "## 12. FIND THE FREQUENCY OF THE value IN THE GIVEN DICTIONARY"
      ],
      "metadata": {
        "id": "YiXg_vDpoq7X"
      }
    },
    {
      "cell_type": "code",
      "source": [
        "a = {'a': 1, 'b': 2, 'c': 3, 'd': 2, 'e': 2, 'f': 3}\n",
        "\n",
        "v_f = {}\n",
        "for value in a.values():\n",
        "    if value in v_f:\n",
        "        v_f[value] += 1\n",
        "    else:\n",
        "        v_f[value] = 1\n",
        "\n",
        "for value, frequency in v_f.items():\n",
        "    print(f\"The frequency of value {value} is: {frequency}\")"
      ],
      "metadata": {
        "colab": {
          "base_uri": "https://localhost:8080/"
        },
        "id": "BVP9M2NDIVTA",
        "outputId": "5c7a55fa-8de6-49ba-8fea-4cb471394815"
      },
      "execution_count": 17,
      "outputs": [
        {
          "output_type": "stream",
          "name": "stdout",
          "text": [
            "The frequency of value 1 is: 1\n",
            "The frequency of value 2 is: 3\n",
            "The frequency of value 3 is: 2\n"
          ]
        }
      ]
    }
  ]
}