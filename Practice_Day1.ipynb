{
  "nbformat": 4,
  "nbformat_minor": 0,
  "metadata": {
    "colab": {
      "provenance": [],
      "authorship_tag": "ABX9TyPy+hZpAsbP5jZTHWGHzU9y",
      "include_colab_link": true
    },
    "kernelspec": {
      "name": "python3",
      "display_name": "Python 3"
    },
    "language_info": {
      "name": "python"
    }
  },
  "cells": [
    {
      "cell_type": "markdown",
      "metadata": {
        "id": "view-in-github",
        "colab_type": "text"
      },
      "source": [
        "<a href=\"https://colab.research.google.com/github/narendra17-abd/Python-Basics/blob/main/Practice_Day1.ipynb\" target=\"_parent\"><img src=\"https://colab.research.google.com/assets/colab-badge.svg\" alt=\"Open In Colab\"/></a>"
      ]
    },
    {
      "cell_type": "code",
      "execution_count": null,
      "metadata": {
        "colab": {
          "base_uri": "https://localhost:8080/"
        },
        "id": "G5odGEEIg0gz",
        "outputId": "2bb75c22-c629-49d9-d800-fe3f7612607a"
      },
      "outputs": [
        {
          "output_type": "stream",
          "name": "stdout",
          "text": [
            "narendra\n",
            "narendra\n",
            "they have same identity\n"
          ]
        }
      ],
      "source": [
        "#how would you confimm that two strings have the same identity?\n",
        "a=input()\n",
        "b=input()\n",
        "if a == b:\n",
        "  print(\"they have same identity\")\n",
        "else:\n",
        "  print(\"they dont have same identity\")"
      ]
    },
    {
      "cell_type": "code",
      "source": [
        "#How to find the length and index of the string?\n",
        "a=input()\n",
        "length=len(a)\n",
        "i=a.index('h')\n",
        "print(length)\n",
        "print(i)"
      ],
      "metadata": {
        "colab": {
          "base_uri": "https://localhost:8080/"
        },
        "id": "KD6s1WSkhzWl",
        "outputId": "2ca9731f-76d6-4f37-83ef-d6d93449af43"
      },
      "execution_count": null,
      "outputs": [
        {
          "output_type": "stream",
          "name": "stdout",
          "text": [
            "narendrah\n",
            "9\n",
            "8\n"
          ]
        }
      ]
    },
    {
      "cell_type": "code",
      "source": [
        "#how to check a string contain a specific substring\n",
        "a=input()\n",
        "b=input()\n",
        "if b in a:\n",
        "  print(\"true\")\n",
        "else:\n",
        "  print(\"false\")"
      ],
      "metadata": {
        "colab": {
          "base_uri": "https://localhost:8080/"
        },
        "id": "eNZScgFriX2T",
        "outputId": "edb62e16-6f77-470c-fefa-37fde992f44f"
      },
      "execution_count": null,
      "outputs": [
        {
          "output_type": "stream",
          "name": "stdout",
          "text": [
            "data science\n",
            "data\n",
            "true\n"
          ]
        }
      ]
    },
    {
      "cell_type": "code",
      "source": [
        "#how to a take a string from backward with two step difference?\n",
        "a=input()\n",
        "b=a[::-2]\n",
        "print(b)"
      ],
      "metadata": {
        "colab": {
          "base_uri": "https://localhost:8080/"
        },
        "id": "f8b4I0GYjAAs",
        "outputId": "25f24411-9c8d-4b29-8462-c07702d027fb"
      },
      "execution_count": null,
      "outputs": [
        {
          "output_type": "stream",
          "name": "stdout",
          "text": [
            "narendra\n",
            "adea\n"
          ]
        }
      ]
    },
    {
      "cell_type": "code",
      "source": [
        "#how to find the index of the last element\n",
        "a=input()\n",
        "b=len(a)-1\n",
        "print(\"the index of last element is \",b)"
      ],
      "metadata": {
        "colab": {
          "base_uri": "https://localhost:8080/"
        },
        "id": "aHL2AQKMjaNW",
        "outputId": "414280e5-cf1f-4de3-faa3-55a8c64037dc"
      },
      "execution_count": null,
      "outputs": [
        {
          "output_type": "stream",
          "name": "stdout",
          "text": [
            "narendra\n",
            "the index of last element is  7\n"
          ]
        }
      ]
    },
    {
      "cell_type": "code",
      "source": [
        "#Write 2 ways to concatinate the string\n",
        "a=input()\n",
        "b=input()\n",
        "c=a+\" \"+b\n",
        "print(c)"
      ],
      "metadata": {
        "colab": {
          "base_uri": "https://localhost:8080/"
        },
        "id": "crK3IqGTjs2D",
        "outputId": "793fcf8b-0e31-4434-ddca-3bded7719cd6"
      },
      "execution_count": null,
      "outputs": [
        {
          "output_type": "stream",
          "name": "stdout",
          "text": [
            "narendra\n",
            "is data science student\n",
            "narendra is data science student\n"
          ]
        }
      ]
    },
    {
      "cell_type": "code",
      "source": [
        "d=f\"{a}{b}\"\n",
        "print(d)"
      ],
      "metadata": {
        "colab": {
          "base_uri": "https://localhost:8080/"
        },
        "id": "N7Av__bakNrn",
        "outputId": "06372238-2d15-4d10-d4b5-a1c436bdde04"
      },
      "execution_count": null,
      "outputs": [
        {
          "output_type": "stream",
          "name": "stdout",
          "text": [
            "narendrais data science student\n"
          ]
        }
      ]
    },
    {
      "cell_type": "code",
      "source": [
        "e=\" \".join([a,b])\n",
        "print(e)"
      ],
      "metadata": {
        "colab": {
          "base_uri": "https://localhost:8080/"
        },
        "id": "SYgOw72WkXBA",
        "outputId": "73b89963-7449-43e9-b290-448fe26d5ec7"
      },
      "execution_count": null,
      "outputs": [
        {
          "output_type": "stream",
          "name": "stdout",
          "text": [
            "narendra is data science student\n"
          ]
        }
      ]
    },
    {
      "cell_type": "code",
      "source": [],
      "metadata": {
        "id": "cKh97dCeoJ2S"
      },
      "execution_count": null,
      "outputs": []
    }
  ]
}